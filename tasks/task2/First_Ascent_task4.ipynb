{
 "cells": [
  {
   "cell_type": "code",
   "execution_count": 42,
   "metadata": {},
   "outputs": [],
   "source": [
    "import numpy as np"
   ]
  },
  {
   "cell_type": "code",
   "execution_count": 43,
   "metadata": {},
   "outputs": [],
   "source": [
    "def alphabetical_order(string):\n",
    "    s = string.lower()\n",
    "\n",
    "    for i in range(len(s)-1):\n",
    "        if s[i+1] < s[i]:\n",
    "            return False\n",
    "\n",
    "    return True "
   ]
  },
  {
   "cell_type": "code",
   "execution_count": 44,
   "metadata": {},
   "outputs": [
    {
     "data": {
      "text/plain": [
       "False"
      ]
     },
     "execution_count": 44,
     "metadata": {},
     "output_type": "execute_result"
    }
   ],
   "source": [
    "s = \"wsedfa\"\n",
    "\n",
    "alphabetical_order(s[::-1])"
   ]
  },
  {
   "cell_type": "code",
   "execution_count": 45,
   "metadata": {},
   "outputs": [
    {
     "data": {
      "text/plain": [
       "True"
      ]
     },
     "execution_count": 45,
     "metadata": {},
     "output_type": "execute_result"
    }
   ],
   "source": [
    "s = \"abccc\"\n",
    "\n",
    "alphabetical_order(s)"
   ]
  },
  {
   "cell_type": "code",
   "execution_count": 46,
   "metadata": {},
   "outputs": [
    {
     "data": {
      "text/plain": [
       "'cccba'"
      ]
     },
     "execution_count": 46,
     "metadata": {},
     "output_type": "execute_result"
    }
   ],
   "source": [
    "s[::-1]"
   ]
  },
  {
   "cell_type": "code",
   "execution_count": 47,
   "metadata": {},
   "outputs": [],
   "source": [
    "alphabet = \"abcdefghijklmnopqrstuvwxyz\"\n",
    "\n",
    "all_3_words = []\n",
    "\n",
    "for let1 in alphabet:\n",
    "    for let2 in alphabet:\n",
    "        for let3 in alphabet:\n",
    "            all_3_words.append(let1+let2+let3)\n"
   ]
  },
  {
   "cell_type": "code",
   "execution_count": 48,
   "metadata": {},
   "outputs": [
    {
     "name": "stdout",
     "output_type": "stream",
     "text": [
      "17576\n",
      "17576\n"
     ]
    }
   ],
   "source": [
    "print(len(all_3_words))\n",
    "\n",
    "print(26*26*26)"
   ]
  },
  {
   "cell_type": "code",
   "execution_count": 49,
   "metadata": {},
   "outputs": [],
   "source": [
    "alphabet = \"abcdefghijklmnopqrstuvwxyz\"\n",
    "\n",
    "all_2_words = []\n",
    "\n",
    "for let1 in alphabet:\n",
    "    for let2 in alphabet:\n",
    "            all_2_words.append(let1+let2)"
   ]
  },
  {
   "cell_type": "code",
   "execution_count": 50,
   "metadata": {},
   "outputs": [],
   "source": [
    "alphabet = \"abcdefghijklmnopqrstuvwxyz\"\n",
    "\n",
    "all_4_words = []\n",
    "\n",
    "for let1 in alphabet:\n",
    "    for let2 in alphabet:\n",
    "        for let3 in alphabet:\n",
    "            for let4 in alphabet:\n",
    "                    all_4_words.append(let1+let2+let3+let4)"
   ]
  },
  {
   "cell_type": "code",
   "execution_count": 51,
   "metadata": {},
   "outputs": [],
   "source": [
    "alphabet = \"abcdefghijklmnopqrstuvwxyz\"\n",
    "\n",
    "all_5_words = []\n",
    "\n",
    "for let1 in alphabet:\n",
    "    for let2 in alphabet:\n",
    "        for let3 in alphabet:\n",
    "            for let4 in alphabet:\n",
    "                for let5 in alphabet:\n",
    "                    all_5_words.append(let1+let2+let3+let4+let5)"
   ]
  },
  {
   "cell_type": "code",
   "execution_count": 52,
   "metadata": {},
   "outputs": [
    {
     "name": "stdout",
     "output_type": "stream",
     "text": [
      "0\n"
     ]
    }
   ],
   "source": [
    "count = 0\n",
    "for word in all_2_words:\n",
    "    if alphabetical_order(word) == False and alphabetical_order(word[::-1]) == False:\n",
    "        count += 1\n",
    "\n",
    "print(count)"
   ]
  },
  {
   "cell_type": "code",
   "execution_count": 53,
   "metadata": {},
   "outputs": [
    {
     "name": "stdout",
     "output_type": "stream",
     "text": [
      "11050\n"
     ]
    }
   ],
   "source": [
    "count = 0\n",
    "for word in all_3_words:\n",
    "    if alphabetical_order(word) == False and alphabetical_order(word[::-1]) == False:\n",
    "        count += 1\n",
    "\n",
    "print(count)"
   ]
  },
  {
   "cell_type": "code",
   "execution_count": 54,
   "metadata": {},
   "outputs": [
    {
     "name": "stdout",
     "output_type": "stream",
     "text": [
      "409500\n"
     ]
    }
   ],
   "source": [
    "count = 0\n",
    "for word in all_4_words:\n",
    "    if alphabetical_order(word) == False and alphabetical_order(word[::-1]) == False:\n",
    "        count += 1\n",
    "\n",
    "print(count)"
   ]
  },
  {
   "cell_type": "code",
   "execution_count": 55,
   "metadata": {},
   "outputs": [
    {
     "name": "stdout",
     "output_type": "stream",
     "text": [
      "11596390\n"
     ]
    }
   ],
   "source": [
    "count = 0\n",
    "for word in all_5_words:\n",
    "    if alphabetical_order(word) == False and alphabetical_order(word[::-1]) == False:\n",
    "        count += 1\n",
    "\n",
    "print(count)"
   ]
  },
  {
   "cell_type": "code",
   "execution_count": 56,
   "metadata": {},
   "outputs": [
    {
     "data": {
      "text/plain": [
       "12016940"
      ]
     },
     "execution_count": 56,
     "metadata": {},
     "output_type": "execute_result"
    }
   ],
   "source": [
    "11050 + 409500 + 11596390"
   ]
  },
  {
   "cell_type": "code",
   "execution_count": 57,
   "metadata": {},
   "outputs": [
    {
     "data": {
      "text/plain": [
       "'aac'"
      ]
     },
     "execution_count": 57,
     "metadata": {},
     "output_type": "execute_result"
    }
   ],
   "source": [
    "all_3_words[2]"
   ]
  }
 ],
 "metadata": {
  "kernelspec": {
   "display_name": "torch",
   "language": "python",
   "name": "python3"
  },
  "language_info": {
   "codemirror_mode": {
    "name": "ipython",
    "version": 3
   },
   "file_extension": ".py",
   "mimetype": "text/x-python",
   "name": "python",
   "nbconvert_exporter": "python",
   "pygments_lexer": "ipython3",
   "version": "3.9.18"
  }
 },
 "nbformat": 4,
 "nbformat_minor": 2
}
